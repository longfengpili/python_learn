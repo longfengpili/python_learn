{
 "cells": [
  {
   "cell_type": "code",
   "execution_count": 1,
   "id": "10c9d067-395a-4580-97ee-a95090a32dde",
   "metadata": {
    "execution": {
     "iopub.execute_input": "2024-08-22T09:47:39.501028Z",
     "iopub.status.busy": "2024-08-22T09:47:39.500029Z",
     "iopub.status.idle": "2024-08-22T09:47:39.519028Z",
     "shell.execute_reply": "2024-08-22T09:47:39.518029Z",
     "shell.execute_reply.started": "2024-08-22T09:47:39.501028Z"
    }
   },
   "outputs": [],
   "source": [
    "import re\n",
    "import json"
   ]
  },
  {
   "cell_type": "markdown",
   "id": "46cf4fde-2d3e-47f6-bac3-638ae11b2c3d",
   "metadata": {},
   "source": [
    "# 匹配国内电话号码"
   ]
  },
  {
   "cell_type": "code",
   "execution_count": 2,
   "id": "b5877af2-e2b1-40b4-92dd-3b618641397c",
   "metadata": {
    "execution": {
     "iopub.execute_input": "2024-08-22T10:12:32.631138Z",
     "iopub.status.busy": "2024-08-22T10:12:32.630137Z",
     "iopub.status.idle": "2024-08-22T10:12:32.641138Z",
     "shell.execute_reply": "2024-08-22T10:12:32.640137Z",
     "shell.execute_reply.started": "2024-08-22T10:12:32.631138Z"
    }
   },
   "outputs": [
    {
     "data": {
      "text/plain": [
       "'0213-5656565'"
      ]
     },
     "execution_count": 2,
     "metadata": {},
     "output_type": "execute_result"
    },
    {
     "data": {
      "text/plain": [
       "'021-53656565'"
      ]
     },
     "execution_count": 2,
     "metadata": {},
     "output_type": "execute_result"
    }
   ],
   "source": [
    "pattern = '\\d{3}-\\d{8}|\\d{4}-\\d{7}'\n",
    "s1 = '0213-5656565,sdfsdf,sdfsd'\n",
    "s2 = 'sdfas,021-53656565,sdfsdf,sdfsd'\n",
    "result = re.search(pattern, s1)\n",
    "result.group(0)\n",
    "\n",
    "result = re.search(pattern, s2)\n",
    "result.group(0)"
   ]
  },
  {
   "cell_type": "markdown",
   "id": "e806a64e-8d07-4b42-9b1f-8b69799825bd",
   "metadata": {},
   "source": [
    "# 匹配中文 "
   ]
  },
  {
   "cell_type": "code",
   "execution_count": 4,
   "id": "ac3cdc6a-44a1-4a03-8017-e2ba2bbea2e2",
   "metadata": {
    "execution": {
     "iopub.execute_input": "2024-08-23T08:02:59.732171Z",
     "iopub.status.busy": "2024-08-23T08:02:59.731171Z",
     "iopub.status.idle": "2024-08-23T08:02:59.750176Z",
     "shell.execute_reply": "2024-08-23T08:02:59.748172Z",
     "shell.execute_reply.started": "2024-08-23T08:02:59.732171Z"
    }
   },
   "outputs": [
    {
     "data": {
      "text/plain": [
       "['中国', '我']"
      ]
     },
     "execution_count": 4,
     "metadata": {},
     "output_type": "execute_result"
    }
   ],
   "source": [
    "pattern = r'[\\u4e00-\\u9fff]+'\n",
    "s1 = 'test中国1我'\n",
    "\n",
    "result = re.findall(pattern, s1)\n",
    "result"
   ]
  },
  {
   "cell_type": "markdown",
   "id": "a01f5097-df38-40cc-8f2b-6be35eeb70a5",
   "metadata": {},
   "source": [
    "# 日期 "
   ]
  },
  {
   "cell_type": "code",
   "execution_count": 4,
   "id": "269b322e-d8e9-4d1e-ab5d-09b26b4edf7a",
   "metadata": {
    "execution": {
     "iopub.execute_input": "2024-08-22T09:47:39.552744Z",
     "iopub.status.busy": "2024-08-22T09:47:39.552744Z",
     "iopub.status.idle": "2024-08-22T09:47:39.566398Z",
     "shell.execute_reply": "2024-08-22T09:47:39.565745Z",
     "shell.execute_reply.started": "2024-08-22T09:47:39.552744Z"
    }
   },
   "outputs": [
    {
     "data": {
      "text/plain": [
       "'2024-05-06,role_id'"
      ]
     },
     "execution_count": 4,
     "metadata": {},
     "output_type": "execute_result"
    },
    {
     "data": {
      "text/plain": [
       "'2024-03-06,role_id'"
      ]
     },
     "execution_count": 4,
     "metadata": {},
     "output_type": "execute_result"
    },
    {
     "data": {
      "text/plain": [
       "'2024-02-06,role_id'"
      ]
     },
     "execution_count": 4,
     "metadata": {},
     "output_type": "execute_result"
    }
   ],
   "source": [
    "pattern = r'(\\d{4})[-/]?(\\d{2})[-/]?(\\d{2})'\n",
    "\n",
    "s1 = '2024-05-06,role_id'\n",
    "s2 = '2024/03/06,role_id'\n",
    "s3 = '20240206,role_id'\n",
    "\n",
    "re.sub(pattern, '\\g<1>-\\g<2>-\\g<3>', s1)\n",
    "re.sub(pattern, '\\g<1>-\\g<2>-\\g<3>', s2)\n",
    "re.sub(pattern, '\\g<1>-\\g<2>-\\g<3>', s3)"
   ]
  },
  {
   "cell_type": "markdown",
   "id": "427b1d63-2d4c-4991-aac6-a1e879b2f80d",
   "metadata": {},
   "source": [
    "# adjust"
   ]
  },
  {
   "cell_type": "code",
   "execution_count": 11,
   "id": "c453995c-e9d2-418c-9889-2eb4120c4a2b",
   "metadata": {
    "execution": {
     "iopub.execute_input": "2024-08-23T08:16:29.889574Z",
     "iopub.status.busy": "2024-08-23T08:16:29.889574Z",
     "iopub.status.idle": "2024-08-23T08:16:29.915579Z",
     "shell.execute_reply": "2024-08-23T08:16:29.913576Z",
     "shell.execute_reply.started": "2024-08-23T08:16:29.889574Z"
    }
   },
   "outputs": [
    {
     "data": {
      "text/plain": [
       "['2023-08-19 14:12:27',\n",
       " 'country:jp',\n",
       " 'fb_ins_ref_adgroup_id:23857369743930081',\n",
       " 'fb_ins_ref_campaign_group_id:23857365450970081',\n",
       " 'app_version:9.9.10007',\n",
       " 'event_cost_id:010120a7ad590a80300052478a7364e05d1e7d811d7c6a86baf4e5c19d9dec28ab43',\n",
       " 'installed_at:1691210735',\n",
       " 'timezone:UTC+0900',\n",
       " 'isp:SoftBank Corp.',\n",
       " 'device_type:phone',\n",
       " 'language:en',\n",
       " 'gps_adid:b9a016bd-721a-4a65-a426-b724d33e1453',\n",
       " 'fb_ins_ref_account_id:224081643732586',\n",
       " 'device_manufacturer:Sharp',\n",
       " 'app_name_dashboard:海上帝国',\n",
       " 'fb_ins_ref_ad_objective_name:APP_INSTALLS',\n",
       " 'time_spent:1200',\n",
       " 'device_name:AquosSense7Plus',\n",
       " 'adid:7d811d7c6a86baf4e5c19d9dec28ab43',\n",
       " 'ta_account_id:56299719806182011',\n",
       " 'fb_ins_ref:{\"ad_id\":23857391911050081,\"ad_objective_name\":\"APP_INSTALLS\",\"adgroup_id\":23857369743930081,\"adgroup_name\":\"VD-国家对比\",\"campaign_id\":23857365451240081,\"campaign_name\":\"MAIA-AAA-1.0-JP-2308903\",\"campaign_group_id\":23857365450970081,\"campaign_group_name\":\"I-WZ-NL04-JP-AND-MAIA-1.0-AAA-230803\",\"account_id\":224081643732586,\"is_instagram\":false,\"publisher_platform\":\"facebook\",\"platform_position\":null}',\n",
       " 'sdk_version:unity4.17.2@android4.17.0',\n",
       " 'tracker:unattr',\n",
       " 'fb_ins_ref_adgroup_name:VD-国家对比',\n",
       " 'fb_ins_ref_campaign_id:23857365451240081',\n",
       " 'event:mtv71v',\n",
       " 'app_id:com.sincetimes.eos',\n",
       " 'fb_ins_ref_ad_id:23857391911050081',\n",
       " 'timestamp:1692425502',\n",
       " 'logdate:2023-08-19 14:11:42',\n",
       " 'fb_ins_ref_publisher_platform:facebook',\n",
       " 'fb_ins_ref_campaign_group_name:I-WZ-NL04-JP-AND-MAIA-1.0-AAA-230803',\n",
       " 'connection_type:Cellular',\n",
       " 'os_version:13',\n",
       " 'network_name:Unattributed',\n",
       " 'ip_address:111.188.227.151',\n",
       " 'store:google',\n",
       " 'app_name:com.sincetimes.eos',\n",
       " 'environment:production',\n",
       " 'is_organic:0',\n",
       " 'ta_distinct_id:7d811d7c6a86baf4e5c19d9dec28ab43',\n",
       " 'event_name:role_create',\n",
       " 'os_name:android',\n",
       " 'tracker_name:Unattributed',\n",
       " 'fb_ins_ref_campaign_name:MAIA-AAA-1.0-JP-2308903',\n",
       " 'region:us',\n",
       " 'activity_kind:event',\n",
       " 'publisher_parameters:{\"ta_account_id\":\"56299719806182011\",\"ta_distinct_id\":\"7d811d7c6a86baf4e5c19d9dec28ab43\"}',\n",
       " 'ip:185.151.206.7']"
      ]
     },
     "execution_count": 11,
     "metadata": {},
     "output_type": "execute_result"
    }
   ],
   "source": [
    "s = '2023-08-19 14:12:27,country:jp,fb_ins_ref_adgroup_id:23857369743930081,fb_ins_ref_campaign_group_id:23857365450970081,app_version:9.9.10007,event_cost_id:010120a7ad590a80300052478a7364e05d1e7d811d7c6a86baf4e5c19d9dec28ab43,installed_at:1691210735,timezone:UTC+0900,isp:SoftBank Corp.,device_type:phone,language:en,gps_adid:b9a016bd-721a-4a65-a426-b724d33e1453,fb_ins_ref_account_id:224081643732586,device_manufacturer:Sharp,app_name_dashboard:海上帝国,fb_ins_ref_ad_objective_name:APP_INSTALLS,time_spent:1200,device_name:AquosSense7Plus,adid:7d811d7c6a86baf4e5c19d9dec28ab43,ta_account_id:56299719806182011,fb_ins_ref:{\"ad_id\":23857391911050081,\"ad_objective_name\":\"APP_INSTALLS\",\"adgroup_id\":23857369743930081,\"adgroup_name\":\"VD-\\u56fd\\u5bb6\\u5bf9\\u6bd4\",\"campaign_id\":23857365451240081,\"campaign_name\":\"MAIA-AAA-1.0-JP-2308903\",\"campaign_group_id\":23857365450970081,\"campaign_group_name\":\"I-WZ-NL04-JP-AND-MAIA-1.0-AAA-230803\",\"account_id\":224081643732586,\"is_instagram\":false,\"publisher_platform\":\"facebook\",\"platform_position\":null},sdk_version:unity4.17.2@android4.17.0,tracker:unattr,fb_ins_ref_adgroup_name:VD-国家对比,fb_ins_ref_campaign_id:23857365451240081,event:mtv71v,app_id:com.sincetimes.eos,fb_ins_ref_ad_id:23857391911050081,timestamp:1692425502,logdate:2023-08-19 14:11:42,fb_ins_ref_publisher_platform:facebook,fb_ins_ref_campaign_group_name:I-WZ-NL04-JP-AND-MAIA-1.0-AAA-230803,connection_type:Cellular,os_version:13,network_name:Unattributed,ip_address:111.188.227.151,store:google,app_name:com.sincetimes.eos,environment:production,is_organic:0,ta_distinct_id:7d811d7c6a86baf4e5c19d9dec28ab43,event_name:role_create,os_name:android,tracker_name:Unattributed,fb_ins_ref_campaign_name:MAIA-AAA-1.0-JP-2308903,region:us,activity_kind:event,publisher_parameters:{\"ta_account_id\":\"56299719806182011\",\"ta_distinct_id\":\"7d811d7c6a86baf4e5c19d9dec28ab43\"},ip:185.151.206.7'\n",
    "\n",
    "pattern = r',(?![^{]*})'\n",
    "dlist = re.split(pattern, s)\n",
    "dlist"
   ]
  },
  {
   "cell_type": "code",
   "execution_count": 12,
   "id": "70693449-688e-467f-a08a-1d22172b3909",
   "metadata": {
    "execution": {
     "iopub.execute_input": "2024-08-23T08:16:30.470503Z",
     "iopub.status.busy": "2024-08-23T08:16:30.469507Z",
     "iopub.status.idle": "2024-08-23T08:16:30.482514Z",
     "shell.execute_reply": "2024-08-23T08:16:30.481593Z",
     "shell.execute_reply.started": "2024-08-23T08:16:30.470503Z"
    }
   },
   "outputs": [],
   "source": [
    "def parse_adjust_data(data: str):\n",
    "    pattern = r',(?![^{]*})(?=[^,]*:)'\n",
    "    pattern2 = r'([^:]*):(.*?$)'\n",
    "    dlist = re.split(pattern, data)\n",
    "    time, others = dlist[0], dlist[1:]\n",
    "    # print(data)\n",
    "    others = map(lambda x: (re.findall(pattern2, x)[0][0], re.findall(pattern2, x)[0][1]) if re.match(pattern2, x) else (x, ''), others)\n",
    "    others = {other[0]: other[1] for other in others}\n",
    "    pdata = {'time': time}\n",
    "    pdata.update(others)\n",
    "    return pdata"
   ]
  },
  {
   "cell_type": "code",
   "execution_count": 13,
   "id": "17490e2c-8ba0-4d68-be52-7b9530cf719b",
   "metadata": {
    "execution": {
     "iopub.execute_input": "2024-08-23T08:16:32.055430Z",
     "iopub.status.busy": "2024-08-23T08:16:32.054422Z",
     "iopub.status.idle": "2024-08-23T08:16:32.079426Z",
     "shell.execute_reply": "2024-08-23T08:16:32.077420Z",
     "shell.execute_reply.started": "2024-08-23T08:16:32.055430Z"
    }
   },
   "outputs": [
    {
     "data": {
      "text/plain": [
       "{'time': '2023-08-19 14:12:27',\n",
       " 'country': 'jp',\n",
       " 'fb_ins_ref_adgroup_id': '23857369743930081',\n",
       " 'fb_ins_ref_campaign_group_id': '23857365450970081',\n",
       " 'app_version': '9.9.10007',\n",
       " 'event_cost_id': '010120a7ad590a80300052478a7364e05d1e7d811d7c6a86baf4e5c19d9dec28ab43',\n",
       " 'installed_at': '1691210735',\n",
       " 'timezone': 'UTC+0900',\n",
       " 'isp': 'SoftBank Corp.',\n",
       " 'device_type': 'phone',\n",
       " 'language': 'en',\n",
       " 'gps_adid': 'b9a016bd-721a-4a65-a426-b724d33e1453',\n",
       " 'fb_ins_ref_account_id': '224081643732586',\n",
       " 'device_manufacturer': 'Sharp',\n",
       " 'app_name_dashboard': '海上帝国',\n",
       " 'fb_ins_ref_ad_objective_name': 'APP_INSTALLS',\n",
       " 'time_spent': '1200',\n",
       " 'device_name': 'AquosSense7Plus',\n",
       " 'adid': '7d811d7c6a86baf4e5c19d9dec28ab43',\n",
       " 'ta_account_id': '56299719806182011',\n",
       " 'fb_ins_ref': '{\"ad_id\":23857391911050081,\"ad_objective_name\":\"APP_INSTALLS\",\"adgroup_id\":23857369743930081,\"adgroup_name\":\"VD-国家对比\",\"campaign_id\":23857365451240081,\"campaign_name\":\"MAIA-AAA-1.0-JP-2308903\",\"campaign_group_id\":23857365450970081,\"campaign_group_name\":\"I-WZ-NL04-JP-AND-MAIA-1.0-AAA-230803\",\"account_id\":224081643732586,\"is_instagram\":false,\"publisher_platform\":\"facebook\",\"platform_position\":null}',\n",
       " 'sdk_version': 'unity4.17.2@android4.17.0',\n",
       " 'tracker': 'unattr',\n",
       " 'fb_ins_ref_adgroup_name': 'VD-国家对比',\n",
       " 'fb_ins_ref_campaign_id': '23857365451240081',\n",
       " 'event': 'mtv71v',\n",
       " 'app_id': 'com.sincetimes.eos',\n",
       " 'fb_ins_ref_ad_id': '23857391911050081',\n",
       " 'timestamp': '1692425502',\n",
       " 'logdate': '2023-08-19 14:11:42',\n",
       " 'fb_ins_ref_publisher_platform': 'facebook',\n",
       " 'fb_ins_ref_campaign_group_name': 'I-WZ-NL04-JP-AND-MAIA-1.0-AAA-230803',\n",
       " 'connection_type': 'Cellular',\n",
       " 'os_version': '13',\n",
       " 'network_name': 'Unattributed',\n",
       " 'ip_address': '111.188.227.151',\n",
       " 'store': 'google',\n",
       " 'app_name': 'com.sincetimes.eos',\n",
       " 'environment': 'production',\n",
       " 'is_organic': '0',\n",
       " 'ta_distinct_id': '7d811d7c6a86baf4e5c19d9dec28ab43',\n",
       " 'event_name': 'role_create',\n",
       " 'os_name': 'android',\n",
       " 'tracker_name': 'Unattributed',\n",
       " 'fb_ins_ref_campaign_name': 'MAIA-AAA-1.0-JP-2308903',\n",
       " 'region': 'us',\n",
       " 'activity_kind': 'event',\n",
       " 'publisher_parameters': '{\"ta_account_id\":\"56299719806182011\",\"ta_distinct_id\":\"7d811d7c6a86baf4e5c19d9dec28ab43\"}',\n",
       " 'ip': '185.151.206.7'}"
      ]
     },
     "execution_count": 13,
     "metadata": {},
     "output_type": "execute_result"
    }
   ],
   "source": [
    "parse_adjust_data(s)"
   ]
  },
  {
   "cell_type": "markdown",
   "id": "069722f2-fb24-4ec3-ac8c-8e601eaf0d8e",
   "metadata": {},
   "source": [
    "# 红警\n",
    "\n",
    "+ Admiral:将领ID-培养等级-数量-技能ID-技能等级 | 将领ID-培养等级-数量-技能ID-技能等级……\n",
    "+ AdmiralCombine:将领组合ID-等级-阶级 | 将领组合ID-等级-阶级……\n",
    "+ AdmiralSoul:军魂ID-军魂等级 | :军魂ID-军魂等级\n",
    "+ AdviserInfo:参谋ID-等级-星级-总天赋点-Talent:天赋ID-天赋等级-Skill:技能ID-技能等级 | 参谋ID-等级-星级-总天赋点-Talent:天赋ID-天赋等级-Skill:技能ID-技能等级 ...... \n",
    "+ MortarInfo:火炮ID-火炮等级-火炮阶级 | 火炮ID-火炮等级-火炮阶级......\n",
    "+ AdvSkillBook:技能书ID-技能书数量\n",
    "+ HeroStone:能量石ID-能量石数量"
   ]
  },
  {
   "cell_type": "code",
   "execution_count": 6,
   "id": "20958c11-88f5-413f-803e-7d9934d81240",
   "metadata": {
    "execution": {
     "iopub.execute_input": "2024-08-23T08:06:39.185953Z",
     "iopub.status.busy": "2024-08-23T08:06:39.184951Z",
     "iopub.status.idle": "2024-08-23T08:06:39.206000Z",
     "shell.execute_reply": "2024-08-23T08:06:39.203996Z",
     "shell.execute_reply.started": "2024-08-23T08:06:39.185953Z"
    }
   },
   "outputs": [],
   "source": [
    "s1 = 'Admiral:11011-4-15-70165-8|11012-5-26-70102-8|11013-0-0-70068-1|11026-4-17-70165-8|11027-5-22-70102-7|12013-6-35-70068-7|AdmiralCombine:1-90-8|3-70-6|2-40-3|7-10-0|AdmiralSoul:1-34|AdviserInfo:120001-60-4-0-Talent:3-3-5-1-Skill:10002-1|120002-63-4-0-Talent:3-3-5-1-Skill:10002-1|120003-1-1-1-Talent:Skill:0-1|120004-62-4-0-Talent:3-3-5-1-Skill:10002-1|120005-65-5-0-Talent:5-2-3-2-Skill:10002-3|120006-62-5-0-Talent:5-2-3-1-Skill:10002-1|MortarInfo:10045-73-3|10057-74-3||10081-73-4|10093-74-4|10105-76-3|AdvSkillBook:10143-98|10144-66|10145-46|10146-73|10147-61|10148-0|10149-0|HeroStone:10078-101'\n",
    "s2 = 'Admiral:11011-1-1-70165-4||11013-0-0-70068-4|11026-0-0-70165-4|11027-2-3-70102-5|12013-1-1-70068-1|AdmiralCombine:AdmiralSoul:1-10|AdviserInfo:120001-3-0-0-Talent:Skill:0-1|120002-3-1-1-Talent:Skill:0-1|120003-1-0-0-Talent:Skill:0-1|120004-1-1-1-Talent:Skill:0-1|120006-1-0-0-Talent:Skill:0-1|MortarInfo:||||||AdvSkillBook:10143-57|10144-65|10145-0|10146-0|10147-1|10148-0|10149-0|HeroStone:10078-327'"
   ]
  },
  {
   "cell_type": "code",
   "execution_count": 7,
   "id": "dcaf44e5-3e3b-4c9e-b03e-731de7d1c983",
   "metadata": {
    "execution": {
     "iopub.execute_input": "2024-08-23T08:06:39.771900Z",
     "iopub.status.busy": "2024-08-23T08:06:39.770899Z",
     "iopub.status.idle": "2024-08-23T08:06:39.805987Z",
     "shell.execute_reply": "2024-08-23T08:06:39.803987Z",
     "shell.execute_reply.started": "2024-08-23T08:06:39.771900Z"
    }
   },
   "outputs": [
    {
     "data": {
      "text/plain": [
       "{'admiral': '11011-4-15-70165-8|11012-5-26-70102-8|11013-0-0-70068-1|11026-4-17-70165-8|11027-5-22-70102-7|12013-6-35-70068-7',\n",
       " 'admiralcombine': '1-90-8|3-70-6|2-40-3|7-10-0',\n",
       " 'admiralsoul': '1-34',\n",
       " 'adviserinfo': '120001-60-4-0-Talent:3-3-5-1-Skill:10002-1|120002-63-4-0-Talent:3-3-5-1-Skill:10002-1|120003-1-1-1-Talent:Skill:0-1|120004-62-4-0-Talent:3-3-5-1-Skill:10002-1|120005-65-5-0-Talent:5-2-3-2-Skill:10002-3|120006-62-5-0-Talent:5-2-3-1-Skill:10002-1',\n",
       " 'mortarinfo': '10045-73-3|10057-74-3||10081-73-4|10093-74-4|10105-76-3',\n",
       " 'advskillbook': '10143-98|10144-66|10145-46|10146-73|10147-61|10148-0|10149-0',\n",
       " 'herostone': '10078-101'}"
      ]
     },
     "execution_count": 7,
     "metadata": {},
     "output_type": "execute_result"
    },
    {
     "data": {
      "text/plain": [
       "[('11011', '4', '15', '70165', '8'),\n",
       " ('11012', '5', '26', '70102', '8'),\n",
       " ('11013', '0', '0', '70068', '1'),\n",
       " ('11026', '4', '17', '70165', '8'),\n",
       " ('11027', '5', '22', '70102', '7'),\n",
       " ('12013', '6', '35', '70068', '7')]"
      ]
     },
     "execution_count": 7,
     "metadata": {},
     "output_type": "execute_result"
    },
    {
     "data": {
      "text/plain": [
       "[('120001', '60', '4', '0', '3-3-5-1-', '10002', '1'),\n",
       " ('120002', '63', '4', '0', '3-3-5-1-', '10002', '1'),\n",
       " ('120003', '1', '1', '1', '', '0', '1'),\n",
       " ('120004', '62', '4', '0', '3-3-5-1-', '10002', '1'),\n",
       " ('120005', '65', '5', '0', '5-2-3-2-', '10002', '3'),\n",
       " ('120006', '62', '5', '0', '5-2-3-1-', '10002', '1')]"
      ]
     },
     "execution_count": 7,
     "metadata": {},
     "output_type": "execute_result"
    }
   ],
   "source": [
    "all_pattern = '^admiral:(?P<admiral>.*?)\\|admiralcombine:(?P<admiralcombine>.*?)\\|admiralsoul:(?P<admiralsoul>.*?)\\|adviserinfo:(?P<adviserinfo>.*?)\\|mortarinfo:(?P<mortarinfo>.*?)\\|advskillbook:(?P<advskillbook>.*?)\\|herostone:(?P<herostone>.*?)$'\n",
    "admiral_pattern = '(?P<id>\\d+)-(?P<level>\\d+)-(?P<num>\\d+)-(?P<skill_id>\\d+)-(?P<skill_level>\\d+)'\n",
    "admiralcombine_pattern = '(?P<id>\\d+)-(?P<level>\\d+)-(?P<class>\\d+)'\n",
    "admiralsoul_pattern = '(?P<id>\\d+)-(?P<level>\\d+)'\n",
    "mortarinfo_pattern = '(?P<id>\\d+)-(?P<level>\\d+)-(?P<class>\\d+)'\n",
    "advskillbook_pattern = '(?P<id>\\d+)-(?P<num>\\d+)'\n",
    "herostone_pattern = '(?P<id>\\d+)-(?P<num>\\d+)'\n",
    "adviserinfo_pattern = '(?P<id>\\d+)-(?P<level>\\d+)-(?P<star>\\d+)-(?P<talent_total>\\d+)-talent:(?P<talents>(?:\\d+-\\d+-)*?)skill:(?P<skill_id>\\d+)-(?P<skill_level>\\d+)'\n",
    "\n",
    "result = re.search(all_pattern, s1, re.I)\n",
    "result_dict = result.groupdict()\n",
    "result_dict\n",
    "\n",
    "admiral = result_dict.get('admiral')\n",
    "re.findall(admiral_pattern, admiral, re.I)\n",
    "\n",
    "adviserinfo = result_dict.get('adviserinfo')\n",
    "re.findall(adviserinfo_pattern, adviserinfo, re.I)"
   ]
  },
  {
   "cell_type": "code",
   "execution_count": 9,
   "id": "169a600e-fc6c-47bf-9b7d-9651f273362d",
   "metadata": {
    "execution": {
     "iopub.execute_input": "2024-08-23T08:12:50.820648Z",
     "iopub.status.busy": "2024-08-23T08:12:50.819647Z",
     "iopub.status.idle": "2024-08-23T08:12:50.841714Z",
     "shell.execute_reply": "2024-08-23T08:12:50.840678Z",
     "shell.execute_reply.started": "2024-08-23T08:12:50.820648Z"
    }
   },
   "outputs": [],
   "source": [
    "base_pattern = '^admiral:(?P<admiral>.*?)\\|admiralcombine:(?P<admiralcombine>.*?)\\|admiralsoul:(?P<admiralsoul>.*?)\\|adviserinfo:(?P<adviserinfo>.*?)\\|mortarinfo:(?P<mortarinfo>.*?)\\|advskillbook:(?P<advskillbook>.*?)\\|herostone:(?P<herostone>.*?)$'\n",
    "\n",
    "pattern_parts = {\n",
    "    'id': '(?P<id>\\d+)',\n",
    "    'level': '(?P<level>\\d+)',\n",
    "    'num': '(?P<num>\\d+)',\n",
    "    'skill_id': '(?P<skill_id>\\d+)',\n",
    "    'skill_level': '(?P<skill_level>\\d+)',\n",
    "    'class': '(?P<class>\\d+)',\n",
    "    'star': '(?P<star>\\d+)',\n",
    "    'talent_total': '(?P<talent_total>\\d+)',\n",
    "    'talents': 'talent:(?P<talents>(?:\\d+-\\d+-)*?)',\n",
    "    'skill': 'skill:(?P<skill_id>\\d+)',\n",
    "}\n",
    "\n",
    "patterns = {\n",
    "    'admiral_pattern': ['id', 'level', 'num', 'skill_id', 'skill_level'],\n",
    "    'admiralcombine_pattern': ['id', 'level', 'class'],\n",
    "    'admiralsoul_pattern': ['id', 'level'],\n",
    "    'mortarinfo_pattern': ['id', 'level', 'class'],\n",
    "    'advskillbook_pattern': ['id', 'num'],\n",
    "    'herostone_pattern': ['id', 'num'],\n",
    "    'adviserinfo_pattern': ['id', 'level', 'star', 'talent_total', 'talents', 'skill']\n",
    "}\n",
    "\n",
    "\n",
    "\n",
    "def get_info(bi: str, item: str):\n",
    "    result = re.search(base_pattern, s1, re.I)\n",
    "    info = result.group(item)\n",
    "    return info\n",
    "\n",
    "def get_pattern(item: str):\n",
    "    pattern = ''\n",
    "    ipatterns = patterns.get(f'{item}_pattern')\n",
    "    for idx, p in enumerate(ipatterns):\n",
    "        p_part = pattern_parts.get(p)\n",
    "        p_part = p_part if p_part == 'talents' or idx == 0 else f'-{p_part}'\n",
    "        pattern += p_part\n",
    "    return pattern\n",
    "\n",
    "def parse_talents(talents: str):\n",
    "    talents = talents.split('-')\n",
    "    talent_ids, talent_levels = talents[::2], talents[1::2]\n",
    "    talent_ids = [f'talent_{idx}' for idx in talent_ids]\n",
    "    talent_levels = map(lambda x: int(x), talent_levels)\n",
    "    talents = dict(zip(talent_ids, talent_levels))\n",
    "    return talents\n",
    "\n",
    "def parse_info(info: str, item: str):\n",
    "    result = {}\n",
    "    pattern = get_pattern(item)\n",
    "    iters = re.finditer(pattern, info, re.I)\n",
    "    for _iter in iters:\n",
    "        _iter_dict = _iter.groupdict()\n",
    "        _iter_dict = {k: int(v) if k in ('level', 'num', 'star', 'skill_level', 'talent_total') else v for k, v in _iter_dict.items()}\n",
    "\n",
    "        if item == 'adviserinfo':\n",
    "            _iter_dict['talents'] = parse_talents(_iter_dict.get('talents'))\n",
    "\n",
    "        _id = _iter_dict.pop('id')\n",
    "        result[_id] = _iter_dict\n",
    "    return result\n",
    "\n",
    "def parse_main(bi: str, *items: tuple[str,]):\n",
    "    result = {}\n",
    "    for item in items:\n",
    "        info = get_info(s1, item)\n",
    "        _result = parse_info(info, item)\n",
    "        result[item] = _result\n",
    "    return result"
   ]
  },
  {
   "cell_type": "code",
   "execution_count": 10,
   "id": "ccec5e5c-ed13-480f-87ca-6d818567e012",
   "metadata": {
    "editable": true,
    "execution": {
     "iopub.execute_input": "2024-08-23T08:12:51.261898Z",
     "iopub.status.busy": "2024-08-23T08:12:51.260895Z",
     "iopub.status.idle": "2024-08-23T08:12:51.283015Z",
     "shell.execute_reply": "2024-08-23T08:12:51.281000Z",
     "shell.execute_reply.started": "2024-08-23T08:12:51.261898Z"
    },
    "slideshow": {
     "slide_type": "slide"
    },
    "tags": []
   },
   "outputs": [
    {
     "name": "stdout",
     "output_type": "stream",
     "text": [
      "{\n",
      "    \"admiral\": {\n",
      "        \"11011\": {\n",
      "            \"level\": 4,\n",
      "            \"num\": 15,\n",
      "            \"skill_id\": \"70165\",\n",
      "            \"skill_level\": 8\n",
      "        },\n",
      "        \"11012\": {\n",
      "            \"level\": 5,\n",
      "            \"num\": 26,\n",
      "            \"skill_id\": \"70102\",\n",
      "            \"skill_level\": 8\n",
      "        },\n",
      "        \"11013\": {\n",
      "            \"level\": 0,\n",
      "            \"num\": 0,\n",
      "            \"skill_id\": \"70068\",\n",
      "            \"skill_level\": 1\n",
      "        },\n",
      "        \"11026\": {\n",
      "            \"level\": 4,\n",
      "            \"num\": 17,\n",
      "            \"skill_id\": \"70165\",\n",
      "            \"skill_level\": 8\n",
      "        },\n",
      "        \"11027\": {\n",
      "            \"level\": 5,\n",
      "            \"num\": 22,\n",
      "            \"skill_id\": \"70102\",\n",
      "            \"skill_level\": 7\n",
      "        },\n",
      "        \"12013\": {\n",
      "            \"level\": 6,\n",
      "            \"num\": 35,\n",
      "            \"skill_id\": \"70068\",\n",
      "            \"skill_level\": 7\n",
      "        }\n",
      "    },\n",
      "    \"admiralcombine\": {\n",
      "        \"1\": {\n",
      "            \"level\": 90,\n",
      "            \"class\": \"8\"\n",
      "        },\n",
      "        \"3\": {\n",
      "            \"level\": 70,\n",
      "            \"class\": \"6\"\n",
      "        },\n",
      "        \"2\": {\n",
      "            \"level\": 40,\n",
      "            \"class\": \"3\"\n",
      "        },\n",
      "        \"7\": {\n",
      "            \"level\": 10,\n",
      "            \"class\": \"0\"\n",
      "        }\n",
      "    }\n",
      "}\n"
     ]
    }
   ],
   "source": [
    "items = ['admiral', 'admiralcombine', 'admiralsoul', 'adviserinfo', 'mortarinfo', 'advskillbook', 'herostone']\n",
    "result = parse_main(s1, *items[:2])\n",
    "print(json.dumps(result, indent=4))"
   ]
  },
  {
   "cell_type": "code",
   "execution_count": null,
   "id": "020298f2-bd70-436a-bcff-87ebf6a83e35",
   "metadata": {},
   "outputs": [],
   "source": []
  }
 ],
 "metadata": {
  "kernelspec": {
   "display_name": "Python 3 (ipykernel)",
   "language": "python",
   "name": "python3"
  },
  "language_info": {
   "codemirror_mode": {
    "name": "ipython",
    "version": 3
   },
   "file_extension": ".py",
   "mimetype": "text/x-python",
   "name": "python",
   "nbconvert_exporter": "python",
   "pygments_lexer": "ipython3",
   "version": "3.10.14"
  },
  "widgets": {
   "application/vnd.jupyter.widget-state+json": {
    "state": {},
    "version_major": 2,
    "version_minor": 0
   }
  }
 },
 "nbformat": 4,
 "nbformat_minor": 5
}
